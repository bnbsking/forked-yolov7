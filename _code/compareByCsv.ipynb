{
 "cells": [
  {
   "cell_type": "code",
   "execution_count": 98,
   "id": "complicated-fiction",
   "metadata": {},
   "outputs": [],
   "source": [
    "import os, glob, random\n",
    "import pandas as pd\n",
    "\n",
    "class External:\n",
    "    def __init__(self, imgFolder, txtFolder, externalCsvPath, excludeFolder, classL):\n",
    "        self.model        = [\"FasterRCNN\", \"YoloR\", \"YOLOv7\"][2]\n",
    "        self.df           = pd.read_csv(externalCsvPath)[['file',f'{self.model}_single',f'{self.model}_missing']]\n",
    "        self.df[\"file\"]   = self.df[\"file\"].apply(lambda s:s.split('\\\\')[-1])\n",
    "        print( self.df )\n",
    "        self.imgFolder    = imgFolder\n",
    "        self.txtFolder    = txtFolder\n",
    "        self.outputFolder = f\"{os.path.dirname(externalCsvPath)}/data\"\n",
    "        self.excludeFolder= excludeFolder\n",
    "        self.classL       = classL\n",
    "        os.makedirs(self.outputFolder, exist_ok=True)\n",
    "        \n",
    "    def getError(self, num=100): # YOLOv7\n",
    "        R = list(range(len(self.df)))\n",
    "        random.Random(7).shuffle(R)\n",
    "        self.df['r'] = R\n",
    "        singleL    = self.df[ self.df[f'{self.model}_single']!=0  ].sort_values(by=[f'{self.model}_single', 'r'], ascending=False)['file'].to_list()[:num]\n",
    "        missL      = self.df[ self.df[f'{self.model}_missing']!=0 ].sort_values(by=[f'{self.model}_missing','r'], ascending=False)['file'].to_list()[:num*2]\n",
    "        excludeS   = { os.path.basename(path) for path in glob.glob(f\"{self.excludeFolder}/*.jpg\") }\n",
    "        imgNameS   = {*singleL, *missL}.difference(excludeS)\n",
    "        print( f\"singleL[:3]={singleL[:2]}, missL[:3]={missL[:2]}\")\n",
    "        print( f\"len(singleL)={len(singleL)}, len(missL)={len(missL)}, len(imgNameS)={len(imgNameS)}\" ); #raise\n",
    "        F          = lambda x:str(round(float(x),5))\n",
    "        for imgName in imgNameS:\n",
    "            os.system(f\"cp {self.imgFolder}/{imgName} {self.outputFolder}\")\n",
    "            with open(f\"{self.outputFolder}/{imgName.replace('.jpg','.txt')}\",\"w\") as f:\n",
    "                for line in open(f\"{self.txtFolder}/{imgName.replace('.jpg','.txt')}\").readlines():\n",
    "                    cid, cx, cy, w, h, conf = line[:-1].split(\" \")\n",
    "                    if float(conf)>=0.5:\n",
    "                        f.write( \" \".join([cid,F(cx),F(cy),F(w),F(h)])+\"\\n\" )\n",
    "        open(f\"{self.outputFolder}/classes.txt\", \"w\").write(\"\\n\".join(self.classL))"
   ]
  },
  {
   "cell_type": "code",
   "execution_count": 99,
   "id": "rapid-gospel",
   "metadata": {},
   "outputs": [
    {
     "name": "stdout",
     "output_type": "stream",
     "text": [
      "                         file  YOLOv7_single  YOLOv7_missing\n",
      "0     20220614_100019_684.jpg              0               0\n",
      "1     20220614_100019_867.jpg              0               0\n",
      "2     20220614_100020_066.jpg              0               0\n",
      "3     20220614_100020_266.jpg              0               0\n",
      "4     20220614_100020_466.jpg              0               0\n",
      "...                       ...            ...             ...\n",
      "3140  20220614_105846_268.jpg              0               0\n",
      "3141  20220614_105846_466.jpg              0               0\n",
      "3142  20220614_105846_668.jpg              0               0\n",
      "3143  20220614_105846_867.jpg              0               0\n",
      "3144  20220614_105847_066.jpg              0               0\n",
      "\n",
      "[3145 rows x 3 columns]\n",
      "singleL[:3]=['20220614_105718_069.jpg', '20220614_104449_670.jpg'], missL[:3]=['20220614_102208_668.jpg', '20220614_105823_868.jpg']\n",
      "len(singleL)=100, len(missL)=47, len(imgNameS)=113\n"
     ]
    }
   ],
   "source": [
    "obj = External(\"/home/jovyan/data-vol-2/recycling/backboneData/2022-06-14/\", \"../runs/test/unlabeled0614_v4v2/yoloFormat/\", \"../_compare/0915_0614_0714/3_models_2022-06-14.csv\",\\\n",
    "               \"../_data/sampleV5/data\", ['tetra'])\n",
    "obj.getError()"
   ]
  },
  {
   "cell_type": "code",
   "execution_count": 100,
   "id": "vertical-filename",
   "metadata": {},
   "outputs": [
    {
     "name": "stdout",
     "output_type": "stream",
     "text": [
      "                         file  YOLOv7_single  YOLOv7_missing\n",
      "0     20220714_160410_969.jpg              0               1\n",
      "1     20220714_160411_169.jpg              0               0\n",
      "2     20220714_160411_370.jpg              0               0\n",
      "3     20220714_160411_579.jpg              1               0\n",
      "4     20220714_160411_809.jpg              0               0\n",
      "...                       ...            ...             ...\n",
      "2167  20220714_165205_356.jpg              0               0\n",
      "2168  20220714_165205_557.jpg              0               0\n",
      "2169  20220714_165205_758.jpg              0               0\n",
      "2170  20220714_165214_175.jpg              0               0\n",
      "2171  20220714_165214_777.jpg              0               0\n",
      "\n",
      "[2172 rows x 3 columns]\n",
      "singleL[:3]=['20220714_160618_377.jpg', '20220714_165012_556.jpg'], missL[:3]=['20220714_160441_372.jpg', '20220714_164858_153.jpg']\n",
      "len(singleL)=100, len(missL)=200, len(imgNameS)=271\n"
     ]
    }
   ],
   "source": [
    "obj = External(\"/home/jovyan/data-vol-2/recycling/backboneData/2022-07-14/\", \"../runs/test/unlabeled0714_v4v2/yoloFormat/\", \"../_compare/0915_0614_0714/3_models_2022-07-14.csv\",\\\n",
    "               \"../_data/sampleV5/data\")\n",
    "obj.getError()"
   ]
  },
  {
   "cell_type": "code",
   "execution_count": 101,
   "id": "joined-scientist",
   "metadata": {},
   "outputs": [
    {
     "name": "stdout",
     "output_type": "stream",
     "text": [
      "768\n"
     ]
    }
   ],
   "source": [
    "!ls ../_compare/0915_0614_0714/data | wc -l"
   ]
  },
  {
   "cell_type": "code",
   "execution_count": null,
   "id": "integrated-zambia",
   "metadata": {},
   "outputs": [],
   "source": []
  }
 ],
 "metadata": {
  "kernelspec": {
   "display_name": "Python 3",
   "language": "python",
   "name": "python3"
  },
  "language_info": {
   "codemirror_mode": {
    "name": "ipython",
    "version": 3
   },
   "file_extension": ".py",
   "mimetype": "text/x-python",
   "name": "python",
   "nbconvert_exporter": "python",
   "pygments_lexer": "ipython3",
   "version": "3.8.5"
  }
 },
 "nbformat": 4,
 "nbformat_minor": 5
}
