{
 "cells": [
  {
   "cell_type": "code",
   "execution_count": 36,
   "metadata": {},
   "outputs": [],
   "source": [
    "import os, glob, random\n",
    "import cv2\n",
    "import visualization as viz\n",
    "\n",
    "class Preprocessing:\n",
    "    def __init__(self, dataPath, outputPath):\n",
    "        self.imgPathL   = glob.glob(f\"{dataPath}/*.jpg\")\n",
    "        self.outputPath = outputPath \n",
    "        print(f\"len(self.imgPathL)={len(self.imgPathL)}\")\n",
    "        \n",
    "    def generate(self):\n",
    "        os.makedirs(f\"{self.outputPath}/data\", exist_ok=True)\n",
    "        with open(f\"{self.outputPath}/train.txt\",\"w\") as f:\n",
    "            for imgPath in self.imgPathL:\n",
    "                txtPath = f\"{self.outputPath}/data/{os.path.basename(imgPath).replace('.jpg','.txt')}\"\n",
    "                f.write( f\"{os.path.abspath(imgPath)}\\n{os.path.abspath(txtPath)}\\n\" )\n",
    "                open(txtPath, \"w\").write(\"\")\n",
    "        os.system(f\"cp {self.outputPath}/train.txt {self.outputPath}/val.txt\")\n",
    "        os.system(f\"cp {self.outputPath}/train.txt {self.outputPath}/test.txt\")\n",
    "        print(len(glob.glob(self.outputPath+'/data/*.txt')))"
   ]
  },
  {
   "cell_type": "code",
   "execution_count": 39,
   "metadata": {},
   "outputs": [
    {
     "name": "stdout",
     "output_type": "stream",
     "text": [
      "len(self.imgPathL)=3145\n",
      "3145\n"
     ]
    }
   ],
   "source": [
    "obj = Preprocessing(\"/home/jovyan/data-vol-2/recycling/backboneData/2022-06-14\", \"../_data/unlabeled_0614\")\n",
    "obj.generate()"
   ]
  },
  {
   "cell_type": "code",
   "execution_count": 40,
   "metadata": {},
   "outputs": [
    {
     "name": "stdout",
     "output_type": "stream",
     "text": [
      "len(self.imgPathL)=2172\n",
      "2172\n"
     ]
    }
   ],
   "source": [
    "obj = Preprocessing(\"/home/jovyan/data-vol-2/recycling/backboneData/2022-07-14\", \"../_data/unlabeled_0714\")\n",
    "obj.generate()"
   ]
  },
  {
   "cell_type": "code",
   "execution_count": 41,
   "metadata": {},
   "outputs": [
    {
     "name": "stdout",
     "output_type": "stream",
     "text": [
      "len(self.imgPathL)=3165\n",
      "3165\n"
     ]
    }
   ],
   "source": [
    "obj = Preprocessing(\"/home/jovyan/data-vol-2/recycling/backboneData/2022-07-07\", \"../_data/unlabeled_0707_v0_raw\")\n",
    "obj.generate()"
   ]
  },
  {
   "cell_type": "code",
   "execution_count": null,
   "metadata": {},
   "outputs": [],
   "source": []
  }
 ],
 "metadata": {
  "kernelspec": {
   "display_name": "Python 3",
   "language": "python",
   "name": "python3"
  },
  "language_info": {
   "codemirror_mode": {
    "name": "ipython",
    "version": 3
   },
   "file_extension": ".py",
   "mimetype": "text/x-python",
   "name": "python",
   "nbconvert_exporter": "python",
   "pygments_lexer": "ipython3",
   "version": "3.8.5"
  }
 },
 "nbformat": 4,
 "nbformat_minor": 4
}
