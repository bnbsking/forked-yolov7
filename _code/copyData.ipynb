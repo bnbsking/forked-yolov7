{
 "cells": [
  {
   "cell_type": "code",
   "execution_count": 22,
   "id": "mechanical-horse",
   "metadata": {},
   "outputs": [
    {
     "name": "stdout",
     "output_type": "stream",
     "text": [
      "['2022-06-14', '2022-06-14_label_nonpapercontainer_v3', '2022-06-14_label_papercontainer_v5', '2022-06-14_label_tetra_v5', '2022-06-16', '2022-06-16_label_tetra_v2', '2022-06-21', '2022-06-21_label_nonpapercontainer_v1', '2022-06-21_label_papercontainer_v1', '2022-06-21_label_tetra_v1', '2022-06-23', '2022-06-23_label_nonpapercontainer_v2', '2022-06-23_label_papercontainer_v4', '2022-06-23_label_tetra_v3', '2022-06-30', '2022-06-30_label_nonpapercontainer_v1', '2022-06-30_label_papercontainer_v1', '2022-06-30_label_papercontainer_v2', '2022-06-30_label_tetra_v3', '2022-06-30_label_tetra_v4', '2022-07-07', '2022-07-07_label_nonpapercontainer_v2', '2022-07-07_label_papercontainer_v2', '2022-07-07_label_tetra_v7', '2022-07-14', '2022-07-14_label_nonpapercontainer_v2', '2022-07-14_label_papercontainer_v3', '2022-07-14_label_tetra_v7']\n"
     ]
    }
   ],
   "source": [
    "import os, glob\n",
    "\n",
    "class CP:\n",
    "    path = \"/home/jovyan/nas-dataset/recycling/backboneData\"\n",
    "    def __init__(self, imgFolderL, antFolderL, outputPath):\n",
    "        self.imgPathL, self.antPathL = [], []\n",
    "        for imgFolder,antFolder in zip(imgFolderL,antFolderL):\n",
    "            imgPathL, antPathL = glob.glob(f\"{self.path}/{imgFolder}/*.jpg\"), glob.glob(f\"{self.path}/{antFolder}/*.txt\")\n",
    "            print(f\"{imgFolder}: {len(imgPathL)}, {antFolder}: {len(antPathL)}\")\n",
    "            self.imgPathL += imgPathL\n",
    "            self.antPathL += antPathL\n",
    "        print(f\"Overall: len(self.imgPathL)={len(self.imgPathL)}, len(self.antPathL)={len(self.antPathL)}\")\n",
    "        self.outputPath = outputPath\n",
    "        \n",
    "    def copy(self):\n",
    "        os.makedirs(self.outputPath, exist_ok=True)\n",
    "        for srcPath in self.imgPathL+self.antPathL:\n",
    "            os.system(f\"cp {srcPath} {self.outputPath}\")\n",
    "        print(f\"len(os.listdir(self.outputPath))={len(os.listdir(self.outputPath))}\")\n",
    "        \n",
    "print( sorted(os.listdir(CP.path)) )"
   ]
  },
  {
   "cell_type": "code",
   "execution_count": 2,
   "id": "valuable-tissue",
   "metadata": {},
   "outputs": [
    {
     "name": "stdout",
     "output_type": "stream",
     "text": [
      "['2022-06-14', '2022-06-14_label_nonpapercontainer_v1', '2022-06-14_label_papercontainer_v2', '2022-06-14_label_tetra_v4', '2022-06-16', '2022-06-21', '2022-06-21_label_nonpapercontainer_v1', '2022-06-21_label_papercontainer_v1', '2022-06-23', '2022-06-23_label_tetra_v1', '2022-06-30', '2022-06-30_label_tetra_v2', '2022-07-07', '2022-07-07_label_tetra_v5', '2022-07-14', '2022-07-14_label_tetra_v5']\n"
     ]
    }
   ],
   "source": [
    "print( sorted(os.listdir(CP.path)) )"
   ]
  },
  {
   "cell_type": "code",
   "execution_count": 13,
   "id": "therapeutic-pepper",
   "metadata": {},
   "outputs": [
    {
     "name": "stdout",
     "output_type": "stream",
     "text": [
      "2022-06-14: 3145, 2022-06-14_label_tetra_v4: 3145\n",
      "2022-06-16: 11694, 2022-06-16_label_tetra_v1: 11694\n",
      "2022-06-21: 3119, 2022-06-21_label_tetra_v1: 3119\n",
      "2022-06-23: 4439, 2022-06-23_label_tetra_v3: 4439\n",
      "2022-06-30: 8789, 2022-06-30_label_tetra_v3: 8789\n",
      "2022-07-07: 3165, 2022-07-07_label_tetra_v5: 3165\n",
      "2022-07-14: 2172, 2022-07-14_label_tetra_v6: 2172\n",
      "Overall: len(self.imgPathL)=36523, len(self.imgPathL)=36523\n",
      "len(os.listdir(self.outputPath))=73046\n"
     ]
    }
   ],
   "source": [
    "obj = CP(['2022-06-14', '2022-06-16', '2022-06-21', '2022-06-23', '2022-06-30', '2022-07-07', '2022-07-14'], \\\n",
    "         ['2022-06-14_label_tetra_v4', '2022-06-16_label_tetra_v1', '2022-06-21_label_tetra_v1', '2022-06-23_label_tetra_v3', '2022-06-30_label_tetra_v3', '2022-07-07_label_tetra_v5', \\\n",
    "          '2022-07-14_label_tetra_v6'], \"/home/jovyan/data-vol-1/yolov7/_data/tetraV14/data\")\n",
    "obj.copy()"
   ]
  },
  {
   "cell_type": "code",
   "execution_count": 12,
   "id": "million-dating",
   "metadata": {},
   "outputs": [
    {
     "name": "stdout",
     "output_type": "stream",
     "text": [
      "2022-06-14: 3145, 2022-06-14_label_papercontainer_v2: 3145\n",
      "2022-06-21: 3119, 2022-06-21_label_papercontainer_v1: 3119\n",
      "Overall: len(self.imgPathL)=6264, len(self.imgPathL)=6264\n",
      "len(os.listdir(self.outputPath))=12528\n"
     ]
    }
   ],
   "source": [
    "obj = CP(['2022-06-14','2022-06-21'], ['2022-06-14_label_papercontainer_v2','2022-06-21_label_papercontainer_v1'], \"/home/jovyan/data-vol-1/yolov7/_data/pcV2/data\")\n",
    "obj.copy()"
   ]
  },
  {
   "cell_type": "code",
   "execution_count": 25,
   "id": "digital-evans",
   "metadata": {},
   "outputs": [
    {
     "name": "stdout",
     "output_type": "stream",
     "text": [
      "2022-06-14: 3145, 2022-06-14_label_nonpapercontainer_v3: 3145\n",
      "2022-06-21: 3119, 2022-06-21_label_nonpapercontainer_v1: 3119\n",
      "2022-06-23: 4439, 2022-06-23_label_nonpapercontainer_v2: 4439\n",
      "2022-06-30: 8789, 2022-06-30_label_nonpapercontainer_v1: 8789\n",
      "2022-07-07: 3165, 2022-07-07_label_nonpapercontainer_v2: 3165\n",
      "2022-07-14: 2172, 2022-07-14_label_nonpapercontainer_v2: 2172\n",
      "Overall: len(self.imgPathL)=24829, len(self.antPathL)=24829\n",
      "len(os.listdir(self.outputPath))=49658\n"
     ]
    }
   ],
   "source": [
    "obj = CP(['2022-06-14', '2022-06-21', '2022-06-23', '2022-06-30', '2022-07-07', '2022-07-14'], ['2022-06-14_label_nonpapercontainer_v3', \\\n",
    "        '2022-06-21_label_nonpapercontainer_v1', '2022-06-23_label_nonpapercontainer_v2', \"2022-06-30_label_nonpapercontainer_v1\", \\\n",
    "        '2022-07-07_label_nonpapercontainer_v2', \"2022-07-14_label_nonpapercontainer_v2\"], \\\n",
    "         \"/home/jovyan/data-vol-1/yolov7/_data/npcV6/data\")\n",
    "obj.copy()"
   ]
  },
  {
   "cell_type": "code",
   "execution_count": null,
   "id": "posted-philadelphia",
   "metadata": {},
   "outputs": [],
   "source": []
  },
  {
   "cell_type": "code",
   "execution_count": null,
   "id": "efficient-stevens",
   "metadata": {},
   "outputs": [],
   "source": []
  }
 ],
 "metadata": {
  "kernelspec": {
   "display_name": "Python 3",
   "language": "python",
   "name": "python3"
  },
  "language_info": {
   "codemirror_mode": {
    "name": "ipython",
    "version": 3
   },
   "file_extension": ".py",
   "mimetype": "text/x-python",
   "name": "python",
   "nbconvert_exporter": "python",
   "pygments_lexer": "ipython3",
   "version": "3.8.5"
  }
 },
 "nbformat": 4,
 "nbformat_minor": 5
}
